{
 "cells": [
  {
   "cell_type": "code",
   "execution_count": 1,
   "id": "32c4f6f4",
   "metadata": {},
   "outputs": [],
   "source": [
    "import requests\n",
    "GENDER = \"male\"\n",
    "WEIGHT_KG = 57\n",
    "HEIGHT_CM = 173\n",
    "AGE = 25\n",
    "\n",
    "APP_ID = \"8c5408a5\"\n",
    "API_KEY = \"aeae4a2eb0d19eeaaa294a59b1cd750a\"\n",
    "\n",
    "url = \"https://trackapi.nutritionix.com\""
   ]
  },
  {
   "cell_type": "code",
   "execution_count": 2,
   "id": "57f33748",
   "metadata": {},
   "outputs": [
    {
     "name": "stdout",
     "output_type": "stream",
     "text": [
      "{'exercises': [{'tag_id': 317, 'user_input': 'running', 'duration_min': 62.15, 'met': 9.8, 'nf_calories': 578.62, 'photo': {'highres': 'https://d2xdmhkmkbyw75.cloudfront.net/exercise/317_highres.jpg', 'thumb': 'https://d2xdmhkmkbyw75.cloudfront.net/exercise/317_thumb.jpg', 'is_user_uploaded': False}, 'compendium_code': 12050, 'name': 'running', 'description': None, 'benefits': None}, {'tag_id': 316, 'user_input': 'jogging', 'duration_min': 21.51, 'met': 9, 'nf_calories': 183.91, 'photo': {'highres': 'https://d2xdmhkmkbyw75.cloudfront.net/exercise/316_highres.jpg', 'thumb': 'https://d2xdmhkmkbyw75.cloudfront.net/exercise/316_thumb.jpg', 'is_user_uploaded': False}, 'compendium_code': 12040, 'name': 'jogging', 'description': None, 'benefits': None}, {'tag_id': 5, 'user_input': 'cycling', 'duration_min': 1, 'met': 10, 'nf_calories': 9.5, 'photo': {'highres': 'https://d2xdmhkmkbyw75.cloudfront.net/exercise/5_highres.jpg', 'thumb': 'https://d2xdmhkmkbyw75.cloudfront.net/exercise/5_thumb.jpg', 'is_user_uploaded': False}, 'compendium_code': 1040, 'name': 'road cycling', 'description': None, 'benefits': None}]}\n"
     ]
    }
   ],
   "source": [
    "exercise_endpoint = f\"{url}/v2/natural/exercise\"\n",
    "\n",
    "exercise_text = input(\"Tell me what exercises you did: \")\n",
    "\n",
    "headers = {\n",
    "    \"x-app-id\": APP_ID,\n",
    "    \"x-app-key\" : API_KEY\n",
    "}\n",
    "\n",
    "exercise_cofig = {\n",
    "    \"query\": exercise_text,\n",
    "    \"gender\": GENDER,\n",
    "    \"weight_kg\": WEIGHT_KG,\n",
    "    \"height_cm\": HEIGHT_CM,\n",
    "    \"age\": AGE\n",
    "}\n",
    "\n",
    "response = requests.post(exercise_endpoint, json=exercise_cofig, headers=headers)\n",
    "result = response.json()\n",
    "print(result)"
   ]
  },
  {
   "cell_type": "code",
   "execution_count": 9,
   "id": "3615798c",
   "metadata": {},
   "outputs": [
    {
     "data": {
      "text/plain": [
       "'running'"
      ]
     },
     "execution_count": 9,
     "metadata": {},
     "output_type": "execute_result"
    }
   ],
   "source": [
    "result[\"exercises\"][0][\"name\"]\n",
    "\n"
   ]
  },
  {
   "cell_type": "code",
   "execution_count": null,
   "id": "6a7eb356",
   "metadata": {},
   "outputs": [],
   "source": [
    "today.strftime(\"%d%m%Y\"),\n",
    "        \"time\" : today.strftime(\"%I%M%S\""
   ]
  }
 ],
 "metadata": {
  "kernelspec": {
   "display_name": "base",
   "language": "python",
   "name": "python3"
  },
  "language_info": {
   "codemirror_mode": {
    "name": "ipython",
    "version": 3
   },
   "file_extension": ".py",
   "mimetype": "text/x-python",
   "name": "python",
   "nbconvert_exporter": "python",
   "pygments_lexer": "ipython3",
   "version": "3.10.9"
  }
 },
 "nbformat": 4,
 "nbformat_minor": 5
}
